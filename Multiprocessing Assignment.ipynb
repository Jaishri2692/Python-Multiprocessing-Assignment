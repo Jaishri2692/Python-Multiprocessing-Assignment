{
 "cells": [
  {
   "cell_type": "code",
   "execution_count": null,
   "id": "d0a87dc1-d883-4d8b-ad6b-e29244498bb1",
   "metadata": {},
   "outputs": [],
   "source": [
    "# Q1. What is multiprocessing in python? Why is it useful?\n",
    "\n",
    "# Multiprocessing in Python is a built-in package that allows the system to run multiple processes \n",
    "# simultaneously. It will enable the breaking of applications into smaller threads that can run independently.\n",
    "\n",
    "\n",
    "# Multiprocessing is useful for CPU-bound processes, such as computationally heavy tasks since it will benefit \n",
    "# from having multiple processors; similar to how multicore computers work faster than computers with a single \n",
    "# core."
   ]
  },
  {
   "cell_type": "code",
   "execution_count": null,
   "id": "8d817929-6202-42a8-b051-dd916926ce2b",
   "metadata": {},
   "outputs": [],
   "source": [
    "# Q2. What are the differences between multiprocessing and multithreading?\n",
    "\n",
    "# Both Multiprocessing and Multithreading are used to increase the computing power of a system. \n",
    "\n",
    "# 1.\n",
    "# Multiprocessing:\n",
    "# In Multiprocessing, CPUs are added for increasing computing power.\t\n",
    "# Multithreading:\n",
    "# While In Multithreading, many threads are created of a single process for increasing computing power.\n",
    "\n",
    "# 2.\n",
    "# Multiprocessing:\n",
    "# In Multiprocessing, Many processes are executed simultaneously.\n",
    "# Multithreading:\n",
    "# While in multithreading, many threads of a process are executed simultaneously.\n",
    "\n",
    "# 3.\n",
    "# Multiprocessing:\n",
    "# Multiprocessing are classified into Symmetric and Asymmetric.\n",
    "# Multithreading:\n",
    "# While Multithreading is not classified in any categories.\n",
    "\n",
    "# 4.\n",
    "# Multiprocessing:\n",
    "# In Multiprocessing, Process creation is a time-consuming process.\n",
    "# Multithreading:\n",
    "# While in Multithreading, process creation is according to economical.\n",
    "\n",
    "# 5.\n",
    "# Multiprocessing:\n",
    "# In Multiprocessing, every process owned a separate address space.\n",
    "# Multithreading:\n",
    "# While in Multithreading, a common address space is shared by all the threads."
   ]
  },
  {
   "cell_type": "code",
   "execution_count": 2,
   "id": "92c1603e-c493-4ce4-b52a-29ae0efb6163",
   "metadata": {},
   "outputs": [
    {
     "name": "stdout",
     "output_type": "stream",
     "text": [
      "Square: 9\n",
      "Cube: 27\n",
      "Done!\n"
     ]
    }
   ],
   "source": [
    "# Q3. Write a python code to create a process using the multiprocessing module.\n",
    "\n",
    "# importing the multiprocessing module\n",
    "import multiprocessing\n",
    "  \n",
    "def print_cube(num):\n",
    "    \"\"\"\n",
    "    function to print cube of given num\n",
    "    \"\"\"\n",
    "    print(\"Cube: {}\".format(num * num * num))\n",
    "\n",
    "def print_square(num):\n",
    "    \"\"\"\n",
    "    function to print square of given num\n",
    "    \"\"\"\n",
    "    print(\"Square: {}\".format(num * num))\n",
    "\n",
    "if __name__ == \"__main__\":\n",
    "    # creating processes\n",
    "    p1 = multiprocessing.Process(target=print_square, args=(3, ))\n",
    "    p2 = multiprocessing.Process(target=print_cube, args=(3, ))\n",
    "  \n",
    "    # starting process 1\n",
    "    p1.start()\n",
    "    # starting process 2\n",
    "    p2.start()\n",
    "  \n",
    "    # wait until process 1 is finished\n",
    "    p1.join()\n",
    "    # wait until process 2 is finished\n",
    "    p2.join()\n",
    "  \n",
    "    # both processes finished\n",
    "    print(\"Done!\")"
   ]
  },
  {
   "cell_type": "code",
   "execution_count": null,
   "id": "956e743f-5ddc-4b5c-80d9-91924b006250",
   "metadata": {},
   "outputs": [],
   "source": [
    "Let us try to understand the above code:\n",
    "\n",
    "# To import the multiprocessing module, we do:\n",
    "#               import multiprocessing\n",
    "\n",
    "# To create a process, we create an object of Process class. It takes following arguments:\n",
    "#               target: the function to be executed by process\n",
    "#               args: the arguments to be passed to the target function\n",
    "\n",
    "# Note: Process constructor takes many other arguments also which will be discussed later.\n",
    "\n",
    "# In above example, we created 2 processes with different target functions:\n",
    "#               p1 = multiprocessing.Process(target=print_square, args=(3, ))\n",
    "#               p2 = multiprocessing.Process(target=print_cube, args=(3, ))\n",
    "\n",
    "# To start a process, we use start method of Process class.\n",
    "#               p1.start()\n",
    "#               p2.start()\n",
    "\n",
    "# Once the processes start, the current program also keeps on executing. \n",
    "# In order to stop execution of current program until a process is complete, we use join method.\n",
    "#              p1.join()\n",
    "#              p2.join()\n",
    "\n",
    "# As a result, the current program will first wait for the completion of p1 and then p2. \n",
    "# Once, they are completed, the next statements of current program are executed.    \n",
    "    "
   ]
  },
  {
   "cell_type": "code",
   "execution_count": null,
   "id": "f900aa7f-cf47-4ec3-9d18-d97ca8be43ae",
   "metadata": {},
   "outputs": [],
   "source": [
    "# Q4. What is a multiprocessing pool in python? Why is it used?\n",
    "\n",
    "# The Pool class in multiprocessing can handle an enormous number of processes. \n",
    "# It allows you to run multiple jobs per process (due to its ability to queue the jobs). \n",
    "# The memory is allocated only to the executing processes, unlike the Process class, which \n",
    "# allocates memory to all the processes.\n",
    "\n",
    "# How do you use multiprocessing pool ()?\n",
    "# Python Multiprocessing Pool: \n",
    "\n",
    "# Create the Process Pool.\n",
    "# Submit Tasks to the Process Pool.\n",
    "# Wait for Tasks to Complete (Optional)\n",
    "# Shutdown the Process Pool\n",
    "\n",
    "# Python multiprocessing Pool can be used for parallel execution of a function across multiple input values, \n",
    "# distributing the input data across processes (data parallelism)."
   ]
  },
  {
   "cell_type": "code",
   "execution_count": 6,
   "id": "4ac04e9f-38b8-4758-b293-62190d14d4a0",
   "metadata": {},
   "outputs": [
    {
     "name": "stdout",
     "output_type": "stream",
     "text": [
      "<multiprocessing.pool.Pool state=RUN pool_size=64>\n",
      "64\n",
      "64\n"
     ]
    }
   ],
   "source": [
    "# Q5. How can we create a pool of worker processes in python using the multiprocessing module?\n",
    "\n",
    "\n",
    "# example of setting the default number of workers in the process pool\n",
    "\n",
    "from multiprocessing.pool import Pool\n",
    "from multiprocessing import active_children\n",
    " \n",
    "# protect the entry point\n",
    "if __name__ == '__main__':\n",
    "    # create a process pool with the default number of workers\n",
    "    pool = Pool()\n",
    "    # report the status of the process pool\n",
    "    print(pool)\n",
    "    # report the number of processes in the pool\n",
    "    print(pool._processes)\n",
    "    # report the number of active child processes\n",
    "    children = active_children()\n",
    "    print(len(children))\n"
   ]
  },
  {
   "cell_type": "code",
   "execution_count": null,
   "id": "578b88a4-e3ea-4e1b-80f9-cf3fe062d25d",
   "metadata": {},
   "outputs": [],
   "source": [
    "# Running the example first creates the process pool, configured with the default number of worker processes.\n",
    "\n",
    "# The status of the process pool is then reported, showing that it is running and configured with a pool size.\n",
    "\n",
    "# The process pool attribute for the number of workers is then reported, then the number of active child \n",
    "# processes is reported.\n",
    "\n",
    "# All approaches agree and in this case we can see that the pool was configured with 8 workers on my system.\n",
    "\n",
    "# Note, results will differ depending on the number of CPU cores in your system."
   ]
  },
  {
   "cell_type": "code",
   "execution_count": 9,
   "id": "bb876c90-bc76-4139-80af-e6db440f91cc",
   "metadata": {},
   "outputs": [
    {
     "name": "stdout",
     "output_type": "stream",
     "text": [
      "Starting to sleep for 1 secondsStarting to sleep for 2 secondsStarting to sleep for 3 secondsStarting to sleep for 4 seconds\n",
      "\n",
      "\n",
      "\n",
      "Done sleeping for 1 seconds\n",
      "Done sleeping for 2 seconds\n",
      "Done sleeping for 3 seconds\n",
      "Done sleeping for 4 seconds\n",
      "Done in 4.0297 seconds\n"
     ]
    }
   ],
   "source": [
    "# Q6. Write a python program to create 4 processes, each process should print a different number using the\n",
    "#     multiprocessing module in python.\n",
    "\n",
    "\n",
    "import multiprocessing\n",
    "import time\n",
    "\n",
    "def sleepy_man(sec):\n",
    "    print('Starting to sleep for {} seconds'.format(sec))\n",
    "    time.sleep(sec)\n",
    "    print('Done sleeping for {} seconds'.format(sec))\n",
    "\n",
    "tic = time.time()\n",
    "\n",
    "pool = multiprocessing.Pool(4)\n",
    "pool.map(sleepy_man, range(1,5))\n",
    "pool.close()\n",
    "\n",
    "toc = time.time()\n",
    "\n",
    "print('Done in {:.4f} seconds'.format(toc-tic))"
   ]
  },
  {
   "cell_type": "code",
   "execution_count": null,
   "id": "40dee83e-2bdb-4313-b510-baa817529081",
   "metadata": {},
   "outputs": [],
   "source": [
    "# multiprocessing.Pool(4) defines the number of workers. Here we define the number to be 4. \n",
    "# pool.map() is the method that triggers the function execution. \n",
    "# We call pool.map(sleepy_man, range(1,5)). \n",
    "# Here, sleepy_man  is the function that will be called with the parameters for the functions executions \n",
    "# defined by range(1,5)  (generally a list is passed). "
   ]
  }
 ],
 "metadata": {
  "kernelspec": {
   "display_name": "Python 3 (ipykernel)",
   "language": "python",
   "name": "python3"
  },
  "language_info": {
   "codemirror_mode": {
    "name": "ipython",
    "version": 3
   },
   "file_extension": ".py",
   "mimetype": "text/x-python",
   "name": "python",
   "nbconvert_exporter": "python",
   "pygments_lexer": "ipython3",
   "version": "3.10.8"
  }
 },
 "nbformat": 4,
 "nbformat_minor": 5
}
